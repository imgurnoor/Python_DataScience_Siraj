{
  "nbformat": 4,
  "nbformat_minor": 0,
  "metadata": {
    "colab": {
      "name": "Python_for_DataScience_Siraj_01.ipynb",
      "version": "0.3.2",
      "provenance": []
    },
    "kernelspec": {
      "name": "python3",
      "display_name": "Python 3"
    }
  },
  "cells": [
    {
      "cell_type": "markdown",
      "metadata": {
        "id": "view-in-github",
        "colab_type": "text"
      },
      "source": [
        "[View in Colaboratory](https://colab.research.google.com/github/imgurnoor/Python_DataScience_Siraj/blob/master/Python_for_DataScience_Siraj_01.ipynb)"
      ]
    },
    {
      "metadata": {
        "id": "faEDlRpHKt8_",
        "colab_type": "text"
      },
      "cell_type": "markdown",
      "source": [
        "Decision Tree"
      ]
    },
    {
      "metadata": {
        "id": "d9naITziFF4V",
        "colab_type": "code",
        "colab": {}
      },
      "cell_type": "code",
      "source": [
        "from sklearn import tree\n",
        "X = [[181, 80, 44], [177, 70, 43], [160, 60, 38], [154, 54, 37], [166, 65, 40],\n",
        "     [190, 90, 47], [175, 64, 39],\n",
        "[177, 70, 40], [159, 55, 37], [171, 75, 42], [181, 85, 43]]\n",
        "Y = ['male', 'male', 'female', 'female', 'male', 'male', 'female', 'female',\n",
        "'female', 'male', 'male']\n",
        "cli= tree.DecisionTreeClassifier()\n",
        "cli=cli.fit(X,Y)\n"
      ],
      "execution_count": 0,
      "outputs": []
    },
    {
      "metadata": {
        "id": "8PCCDK95GRkq",
        "colab_type": "code",
        "colab": {
          "base_uri": "https://localhost:8080/",
          "height": 53
        },
        "outputId": "d06733c7-99b1-48af-e161-53e0c295d7b0"
      },
      "cell_type": "code",
      "source": [
        "acc=cli.score(X, Y)\n",
        "print(acc)\n",
        "predict=cli.predict([[190,70,43]])\n",
        "print(predict)"
      ],
      "execution_count": 25,
      "outputs": [
        {
          "output_type": "stream",
          "text": [
            "1.0\n",
            "['male']\n"
          ],
          "name": "stdout"
        }
      ]
    },
    {
      "metadata": {
        "id": "dS-EMbJIKylx",
        "colab_type": "text"
      },
      "cell_type": "markdown",
      "source": [
        "Random Forest."
      ]
    },
    {
      "metadata": {
        "id": "qisAPmZ2GjG2",
        "colab_type": "code",
        "colab": {
          "base_uri": "https://localhost:8080/",
          "height": 53
        },
        "outputId": "ba07af02-7dbe-4b6e-a632-7e1b6f685c67"
      },
      "cell_type": "code",
      "source": [
        "from sklearn.ensemble import RandomForestClassifier\n",
        "clf=RandomForestClassifier()\n",
        "clf=clf.fit(X,Y)\n",
        "acc=clf.score(X, Y)\n",
        "print(acc)\n",
        "predict=clf.predict([[190,70,43]])\n",
        "print(predict)\n"
      ],
      "execution_count": 21,
      "outputs": [
        {
          "output_type": "stream",
          "text": [
            "0.9090909090909091\n",
            "['male']\n"
          ],
          "name": "stdout"
        }
      ]
    },
    {
      "metadata": {
        "id": "yhNsBmN_K28y",
        "colab_type": "text"
      },
      "cell_type": "markdown",
      "source": [
        "Naive Bayes"
      ]
    },
    {
      "metadata": {
        "id": "Cs55P1TiJtn6",
        "colab_type": "code",
        "colab": {
          "base_uri": "https://localhost:8080/",
          "height": 53
        },
        "outputId": "81216f46-0ac1-4596-f043-f883cd111e69"
      },
      "cell_type": "code",
      "source": [
        "from sklearn.naive_bayes import GaussianNB\n",
        "model = GaussianNB()\n",
        "model.fit(X,Y)\n",
        "acc=model.score(X, Y)\n",
        "print(acc)\n",
        "predict=model.predict([[190,70,43]])\n",
        "print(predict)"
      ],
      "execution_count": 20,
      "outputs": [
        {
          "output_type": "stream",
          "text": [
            "0.8181818181818182\n",
            "['male']\n"
          ],
          "name": "stdout"
        }
      ]
    },
    {
      "metadata": {
        "id": "KmHefwZ7LRYf",
        "colab_type": "code",
        "colab": {
          "base_uri": "https://localhost:8080/",
          "height": 53
        },
        "outputId": "1b1fd3d8-2936-44fe-8f18-151b3caf9b39"
      },
      "cell_type": "code",
      "source": [
        "from sklearn.linear_model import LogisticRegression\n",
        "model_l = LogisticRegression()\n",
        "model_l = model.fit(X, Y)\n",
        "acc=model_l.score(X, Y)\n",
        "print(acc)\n",
        "predict=model_l.predict([[190,70,43]])\n",
        "print(predict)"
      ],
      "execution_count": 19,
      "outputs": [
        {
          "output_type": "stream",
          "text": [
            "0.8181818181818182\n",
            "['male']\n"
          ],
          "name": "stdout"
        }
      ]
    }
  ]
}